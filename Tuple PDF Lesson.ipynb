{
 "cells": [
  {
   "cell_type": "code",
   "execution_count": 1,
   "id": "d828ec34",
   "metadata": {},
   "outputs": [
    {
     "data": {
      "text/plain": [
       "('Million', 10, True, 30.5)"
      ]
     },
     "execution_count": 1,
     "metadata": {},
     "output_type": "execute_result"
    }
   ],
   "source": [
    "#Creating a Tuple\n",
    "tupl=(\"Million\",10,True,30.5)\n",
    "tupl"
   ]
  },
  {
   "cell_type": "code",
   "execution_count": 2,
   "id": "125b7532",
   "metadata": {},
   "outputs": [
    {
     "data": {
      "text/plain": [
       "tuple"
      ]
     },
     "execution_count": 2,
     "metadata": {},
     "output_type": "execute_result"
    }
   ],
   "source": [
    "type(tupl)"
   ]
  },
  {
   "cell_type": "code",
   "execution_count": 3,
   "id": "f0f3bd8c",
   "metadata": {},
   "outputs": [
    {
     "ename": "TypeError",
     "evalue": "'tuple' object is not callable",
     "output_type": "error",
     "traceback": [
      "\u001b[1;31m---------------------------------------------------------------------------\u001b[0m",
      "\u001b[1;31mTypeError\u001b[0m                                 Traceback (most recent call last)",
      "Input \u001b[1;32mIn [3]\u001b[0m, in \u001b[0;36m<cell line: 3>\u001b[1;34m()\u001b[0m\n\u001b[0;32m      1\u001b[0m \u001b[38;5;66;03m#Indexing of Tuples\u001b[39;00m\n\u001b[0;32m      2\u001b[0m \u001b[38;5;66;03m#To Check the Value of Index\u001b[39;00m\n\u001b[1;32m----> 3\u001b[0m \u001b[43mtupl\u001b[49m\u001b[43m(\u001b[49m\u001b[38;5;241;43m2\u001b[39;49m\u001b[43m)\u001b[49m\n",
      "\u001b[1;31mTypeError\u001b[0m: 'tuple' object is not callable"
     ]
    }
   ],
   "source": [
    "#Indexing of Tuples\n",
    "#To Check the Value of Index\n",
    "tupl(2)"
   ]
  },
  {
   "cell_type": "code",
   "execution_count": 6,
   "id": "5e2d4522",
   "metadata": {},
   "outputs": [
    {
     "ename": "TypeError",
     "evalue": "'int' object is not iterable",
     "output_type": "error",
     "traceback": [
      "\u001b[1;31m---------------------------------------------------------------------------\u001b[0m",
      "\u001b[1;31mTypeError\u001b[0m                                 Traceback (most recent call last)",
      "Input \u001b[1;32mIn [6]\u001b[0m, in \u001b[0;36m<cell line: 2>\u001b[1;34m()\u001b[0m\n\u001b[0;32m      1\u001b[0m \u001b[38;5;66;03m#To Check the Value of 1 index\u001b[39;00m\n\u001b[1;32m----> 2\u001b[0m \u001b[38;5;28;43mtuple\u001b[39;49m\u001b[43m(\u001b[49m\u001b[38;5;241;43m1\u001b[39;49m\u001b[43m)\u001b[49m\n",
      "\u001b[1;31mTypeError\u001b[0m: 'int' object is not iterable"
     ]
    }
   ],
   "source": [
    "#To Check the Value of 1 index\n",
    "tupl(1)"
   ]
  },
  {
   "cell_type": "code",
   "execution_count": 9,
   "id": "2d2dd882",
   "metadata": {},
   "outputs": [
    {
     "data": {
      "text/plain": [
       "4"
      ]
     },
     "execution_count": 9,
     "metadata": {},
     "output_type": "execute_result"
    }
   ],
   "source": [
    "# Element Count in Tuple\n",
    "len (tupl)"
   ]
  },
  {
   "cell_type": "code",
   "execution_count": 10,
   "id": "e312fea4",
   "metadata": {},
   "outputs": [
    {
     "data": {
      "text/plain": [
       "('Million', 10, True)"
      ]
     },
     "execution_count": 10,
     "metadata": {},
     "output_type": "execute_result"
    }
   ],
   "source": [
    "# Last Element is exc;usive (it skips the last element 3 to print all the elements)\n",
    "tupl[0:3]"
   ]
  },
  {
   "cell_type": "code",
   "execution_count": 13,
   "id": "14bf6704",
   "metadata": {},
   "outputs": [
    {
     "data": {
      "text/plain": [
       "(40, 'Coders', 9.5, False)"
      ]
     },
     "execution_count": 13,
     "metadata": {},
     "output_type": "execute_result"
    }
   ],
   "source": [
    "#Creating a new Tuple\n",
    "tup2=(40,\"Coders\",9.5,False)\n",
    "tup2"
   ]
  },
  {
   "cell_type": "code",
   "execution_count": 14,
   "id": "b2d2b5d9",
   "metadata": {},
   "outputs": [
    {
     "data": {
      "text/plain": [
       "(30, 55, 40, 29, 20, 70)"
      ]
     },
     "execution_count": 14,
     "metadata": {},
     "output_type": "execute_result"
    }
   ],
   "source": [
    "#Concatination of tuples \n",
    "#Merge the Elements of Tuples\n",
    "#Creating a tupleupl + tup2\n",
    "#Creating a new tuple\n",
    "tup3=(30,55,40,29,20,70)\n",
    "tup3"
   ]
  },
  {
   "cell_type": "code",
   "execution_count": 15,
   "id": "1da1de2b",
   "metadata": {},
   "outputs": [
    {
     "data": {
      "text/plain": [
       "20"
      ]
     },
     "execution_count": 15,
     "metadata": {},
     "output_type": "execute_result"
    }
   ],
   "source": [
    "# To Check minimum value in a Tuple\n",
    "min(tup3)"
   ]
  },
  {
   "cell_type": "code",
   "execution_count": 16,
   "id": "e76b8d78",
   "metadata": {},
   "outputs": [
    {
     "data": {
      "text/plain": [
       "70"
      ]
     },
     "execution_count": 16,
     "metadata": {},
     "output_type": "execute_result"
    }
   ],
   "source": [
    "#To check the maximum value in Tuple\n",
    "max(tup3)"
   ]
  },
  {
   "cell_type": "code",
   "execution_count": 17,
   "id": "5c9d660b",
   "metadata": {},
   "outputs": [
    {
     "data": {
      "text/plain": [
       "(30, 55, 40, 29, 20, 70, 30, 55, 40, 29, 20, 70)"
      ]
     },
     "execution_count": 17,
     "metadata": {},
     "output_type": "execute_result"
    }
   ],
   "source": [
    "#We can multiply tuples too,but it means repeatation only.\n",
    "#It will repeat the same tuple twice\n",
    "tup3*2"
   ]
  },
  {
   "cell_type": "code",
   "execution_count": null,
   "id": "017087ca",
   "metadata": {},
   "outputs": [],
   "source": []
  }
 ],
 "metadata": {
  "kernelspec": {
   "display_name": "Python 3 (ipykernel)",
   "language": "python",
   "name": "python3"
  },
  "language_info": {
   "codemirror_mode": {
    "name": "ipython",
    "version": 3
   },
   "file_extension": ".py",
   "mimetype": "text/x-python",
   "name": "python",
   "nbconvert_exporter": "python",
   "pygments_lexer": "ipython3",
   "version": "3.9.12"
  }
 },
 "nbformat": 4,
 "nbformat_minor": 5
}
