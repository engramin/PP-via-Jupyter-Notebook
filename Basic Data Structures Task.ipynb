{
 "cells": [
  {
   "cell_type": "code",
   "execution_count": 6,
   "id": "2ae2d607",
   "metadata": {},
   "outputs": [],
   "source": [
    "#sample_set={\"Yellow\",\"Orange\",\"Black\"}\n",
    "#samle_list=[\"Blue\",\"Green\",\"Red\"]"
   ]
  },
  {
   "cell_type": "code",
   "execution_count": 3,
   "id": "5e8e8470",
   "metadata": {},
   "outputs": [],
   "source": [
    "#Q1-Given a Python List,Write a Program to add all its elements into a given set\n",
    "#set1={10,20,30,40,50}\n",
    "#set2={30,40,50,60,70}"
   ]
  },
  {
   "cell_type": "code",
   "execution_count": null,
   "id": "5ac20e80",
   "metadata": {},
   "outputs": [],
   "source": [
    "#Q2-Perform Intersection & Union\n",
    "#Set1={10,20,30,40,50}"
   ]
  },
  {
   "cell_type": "code",
   "execution_count": 4,
   "id": "a0054375",
   "metadata": {},
   "outputs": [],
   "source": [
    "#Q3-Write a Program to remove items 10,20,30, from the following set at once.\n",
    "#Set1={10,20,30,40,50}\n",
    "#Set2={30,40,50,60,70}"
   ]
  },
  {
   "cell_type": "code",
   "execution_count": 5,
   "id": "bf587ce8",
   "metadata": {},
   "outputs": [],
   "source": [
    "#Q4-Return a set of Elements present in Set A or B,but not both\n",
    "#{20,70,10,60} expected output"
   ]
  }
 ],
 "metadata": {
  "kernelspec": {
   "display_name": "Python 3 (ipykernel)",
   "language": "python",
   "name": "python3"
  },
  "language_info": {
   "codemirror_mode": {
    "name": "ipython",
    "version": 3
   },
   "file_extension": ".py",
   "mimetype": "text/x-python",
   "name": "python",
   "nbconvert_exporter": "python",
   "pygments_lexer": "ipython3",
   "version": "3.9.12"
  }
 },
 "nbformat": 4,
 "nbformat_minor": 5
}
