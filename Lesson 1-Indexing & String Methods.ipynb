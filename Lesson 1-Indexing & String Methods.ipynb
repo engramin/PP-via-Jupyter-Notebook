{
 "cells": [
  {
   "cell_type": "code",
   "execution_count": 2,
   "id": "947dee4b",
   "metadata": {},
   "outputs": [],
   "source": [
    "#Indexing"
   ]
  },
  {
   "cell_type": "code",
   "execution_count": 2,
   "id": "a461acdf",
   "metadata": {},
   "outputs": [
    {
     "data": {
      "text/plain": [
       "'Million Coders'"
      ]
     },
     "execution_count": 2,
     "metadata": {},
     "output_type": "execute_result"
    }
   ],
   "source": [
    "#Creating a String\n",
    "a=\"Million Coders\"\n",
    "a\n"
   ]
  },
  {
   "cell_type": "code",
   "execution_count": 3,
   "id": "7cfc7dc5",
   "metadata": {},
   "outputs": [
    {
     "data": {
      "text/plain": [
       "'M'"
      ]
     },
     "execution_count": 3,
     "metadata": {},
     "output_type": "execute_result"
    }
   ],
   "source": [
    "#Index Starts from 0 left to right side\n",
    "#To print 1st Character of String \"M\"\n",
    "a[0]"
   ]
  },
  {
   "cell_type": "code",
   "execution_count": 4,
   "id": "4904d643",
   "metadata": {},
   "outputs": [
    {
     "data": {
      "text/plain": [
       "14"
      ]
     },
     "execution_count": 4,
     "metadata": {},
     "output_type": "execute_result"
    }
   ],
   "source": [
    "#To know the length of string indexes use len()function\n",
    "#It will print the number of Characters of \"Million Coders\"\n",
    "len(a)"
   ]
  },
  {
   "cell_type": "code",
   "execution_count": 5,
   "id": "2601e9eb",
   "metadata": {},
   "outputs": [
    {
     "data": {
      "text/plain": [
       "'n'"
      ]
     },
     "execution_count": 5,
     "metadata": {},
     "output_type": "execute_result"
    }
   ],
   "source": [
    "#To print \"n\" from \"Million Coders\"\n",
    "a[6]"
   ]
  },
  {
   "cell_type": "code",
   "execution_count": 6,
   "id": "761cfef2",
   "metadata": {},
   "outputs": [
    {
     "data": {
      "text/plain": [
       "'Coders'"
      ]
     },
     "execution_count": 6,
     "metadata": {},
     "output_type": "execute_result"
    }
   ],
   "source": [
    "#To print the word \"Coders\"\n",
    "#C starts from 8 and s ends on 13\n",
    "#It skips the last index of the string so we're using 14\n",
    "a[8:14]"
   ]
  },
  {
   "cell_type": "code",
   "execution_count": 7,
   "id": "9461102f",
   "metadata": {},
   "outputs": [
    {
     "data": {
      "text/plain": [
       "'C'"
      ]
     },
     "execution_count": 7,
     "metadata": {},
     "output_type": "execute_result"
    }
   ],
   "source": [
    "#To print C using \n",
    "a[-6]"
   ]
  },
  {
   "cell_type": "code",
   "execution_count": 8,
   "id": "0480ed3d",
   "metadata": {},
   "outputs": [
    {
     "data": {
      "text/plain": [
       "'Coders'"
      ]
     },
     "execution_count": 8,
     "metadata": {},
     "output_type": "execute_result"
    }
   ],
   "source": [
    "#To print Coders using \n",
    "a[-6:14]"
   ]
  },
  {
   "cell_type": "code",
   "execution_count": 9,
   "id": "0123f1ed",
   "metadata": {},
   "outputs": [],
   "source": [
    "#String Methods"
   ]
  },
  {
   "cell_type": "code",
   "execution_count": 11,
   "id": "46aeb32c",
   "metadata": {},
   "outputs": [
    {
     "data": {
      "text/plain": [
       "'Million'"
      ]
     },
     "execution_count": 11,
     "metadata": {},
     "output_type": "execute_result"
    }
   ],
   "source": [
    "#Creating a String\n",
    "name=\"Million\"\n",
    "name"
   ]
  },
  {
   "cell_type": "code",
   "execution_count": 13,
   "id": "97fef473",
   "metadata": {},
   "outputs": [
    {
     "data": {
      "text/plain": [
       "7"
      ]
     },
     "execution_count": 13,
     "metadata": {},
     "output_type": "execute_result"
    }
   ],
   "source": [
    "len(name)"
   ]
  },
  {
   "cell_type": "code",
   "execution_count": 15,
   "id": "019b54fb",
   "metadata": {},
   "outputs": [
    {
     "data": {
      "text/plain": [
       "'MILLION'"
      ]
     },
     "execution_count": 15,
     "metadata": {},
     "output_type": "execute_result"
    }
   ],
   "source": [
    "#To Uppercase\n",
    "name.upper()"
   ]
  },
  {
   "cell_type": "code",
   "execution_count": 16,
   "id": "2c9e7518",
   "metadata": {},
   "outputs": [
    {
     "data": {
      "text/plain": [
       "'million'"
      ]
     },
     "execution_count": 16,
     "metadata": {},
     "output_type": "execute_result"
    }
   ],
   "source": [
    "#To Lowercase\n",
    "name.lower()"
   ]
  },
  {
   "cell_type": "code",
   "execution_count": 17,
   "id": "65feeec3",
   "metadata": {},
   "outputs": [
    {
     "data": {
      "text/plain": [
       "'Billion'"
      ]
     },
     "execution_count": 17,
     "metadata": {},
     "output_type": "execute_result"
    }
   ],
   "source": [
    "#To replace any character from string\n",
    "name.replace(\"M\",\"B\") #to replace M to B"
   ]
  },
  {
   "cell_type": "code",
   "execution_count": 19,
   "id": "95331bfe",
   "metadata": {},
   "outputs": [
    {
     "data": {
      "text/plain": [
       "'I study in Nillion Coders in Karachi'"
      ]
     },
     "execution_count": 19,
     "metadata": {},
     "output_type": "execute_result"
    }
   ],
   "source": [
    "text=\"I study in Nillion Coders in Karachi\"\n",
    "text"
   ]
  },
  {
   "cell_type": "code",
   "execution_count": 20,
   "id": "cf5df1b6",
   "metadata": {},
   "outputs": [
    {
     "data": {
      "text/plain": [
       "5"
      ]
     },
     "execution_count": 20,
     "metadata": {},
     "output_type": "execute_result"
    }
   ],
   "source": [
    "#To count the occurance of any alphabet in string.\n",
    "#I'm checkin the occurance of \"i\"\n",
    "text.count(\"i\")"
   ]
  },
  {
   "cell_type": "code",
   "execution_count": 21,
   "id": "fd24deae",
   "metadata": {},
   "outputs": [
    {
     "data": {
      "text/plain": [
       "29"
      ]
     },
     "execution_count": 21,
     "metadata": {},
     "output_type": "execute_result"
    }
   ],
   "source": [
    "# To find index of a character in string \n",
    "#Let's find the index of \"K\"\n",
    "text.find(\"K\")"
   ]
  },
  {
   "cell_type": "code",
   "execution_count": 22,
   "id": "7e2a9b28",
   "metadata": {},
   "outputs": [
    {
     "data": {
      "text/plain": [
       "'I love Programming in,Python,PHP,Android & React Native'"
      ]
     },
     "execution_count": 22,
     "metadata": {},
     "output_type": "execute_result"
    }
   ],
   "source": [
    "# How to split a String\n",
    "fav=\"I love Programming in,Python,PHP,Android & React Native\"\n",
    "fav"
   ]
  },
  {
   "cell_type": "code",
   "execution_count": 23,
   "id": "3b2c8fe9",
   "metadata": {},
   "outputs": [
    {
     "data": {
      "text/plain": [
       "['I love Programming in', 'Python', 'PHP', 'Android & React Native']"
      ]
     },
     "execution_count": 23,
     "metadata": {},
     "output_type": "execute_result"
    }
   ],
   "source": [
    "fav.split(\",\")"
   ]
  },
  {
   "cell_type": "code",
   "execution_count": null,
   "id": "6887a636",
   "metadata": {},
   "outputs": [],
   "source": []
  }
 ],
 "metadata": {
  "kernelspec": {
   "display_name": "Python 3 (ipykernel)",
   "language": "python",
   "name": "python3"
  },
  "language_info": {
   "codemirror_mode": {
    "name": "ipython",
    "version": 3
   },
   "file_extension": ".py",
   "mimetype": "text/x-python",
   "name": "python",
   "nbconvert_exporter": "python",
   "pygments_lexer": "ipython3",
   "version": "3.9.12"
  }
 },
 "nbformat": 4,
 "nbformat_minor": 5
}
