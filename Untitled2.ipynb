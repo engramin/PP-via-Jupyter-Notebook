{
 "cells": [
  {
   "cell_type": "code",
   "execution_count": 1,
   "id": "97dc8706",
   "metadata": {},
   "outputs": [
    {
     "name": "stdout",
     "output_type": "stream",
     "text": [
      "Oh ALLAH please increase my knowledge\n",
      "Oh ALLAH please make me successful\n"
     ]
    }
   ],
   "source": [
    "print('Oh ALLAH please increase my knowledge')\n",
    "print('''Oh ALLAH please make me successful''')\n"
   ]
  },
  {
   "cell_type": "code",
   "execution_count": 4,
   "id": "90288c10",
   "metadata": {},
   "outputs": [
    {
     "name": "stdout",
     "output_type": "stream",
     "text": [
      "Oh ALLAH please increase my knowledge\n"
     ]
    }
   ],
   "source": [
    "a='Oh ALLAH please increase my knowledge'\n",
    "print(a)"
   ]
  },
  {
   "cell_type": "code",
   "execution_count": 5,
   "id": "c72ee268",
   "metadata": {},
   "outputs": [
    {
     "name": "stdout",
     "output_type": "stream",
     "text": [
      "Oh ALLAH please make me successful\n"
     ]
    }
   ],
   "source": [
    "b=\"Oh ALLAH please make me successful\"\n",
    "print(b)"
   ]
  },
  {
   "cell_type": "code",
   "execution_count": null,
   "id": "b8750952",
   "metadata": {},
   "outputs": [],
   "source": []
  }
 ],
 "metadata": {
  "kernelspec": {
   "display_name": "Python 3 (ipykernel)",
   "language": "python",
   "name": "python3"
  },
  "language_info": {
   "codemirror_mode": {
    "name": "ipython",
    "version": 3
   },
   "file_extension": ".py",
   "mimetype": "text/x-python",
   "name": "python",
   "nbconvert_exporter": "python",
   "pygments_lexer": "ipython3",
   "version": "3.9.12"
  }
 },
 "nbformat": 4,
 "nbformat_minor": 5
}
