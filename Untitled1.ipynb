{
 "cells": [
  {
   "cell_type": "code",
   "execution_count": 1,
   "id": "08499948",
   "metadata": {},
   "outputs": [
    {
     "name": "stdout",
     "output_type": "stream",
     "text": [
      "ALLAH TA'ALA help me\n"
     ]
    }
   ],
   "source": [
    "print(\"ALLAH TA'ALA help me\")"
   ]
  },
  {
   "cell_type": "code",
   "execution_count": 2,
   "id": "3eaf1cd3",
   "metadata": {},
   "outputs": [
    {
     "name": "stdout",
     "output_type": "stream",
     "text": [
      "Enter the Table:9\n",
      "How much time do you want to display:5\n",
      "9  * 1  = 9\n",
      "9  * 2  = 9\n",
      "9  * 3  = 9\n",
      "9  * 4  = 9\n",
      "9  * 5  = 9\n"
     ]
    }
   ],
   "source": [
    "n=int(input(\"Enter the Table:\"))\n",
    "r=int(input(\"How much time do you want to display:\"))\n",
    "for i in range (1,r+1):\n",
    "    print(format(n,\"<2\"),\"*\",format(i,\"<2\"),\"=\",n*1)\n"
   ]
  },
  {
   "cell_type": "code",
   "execution_count": null,
   "id": "b5333dfc",
   "metadata": {},
   "outputs": [],
   "source": []
  }
 ],
 "metadata": {
  "kernelspec": {
   "display_name": "Python 3 (ipykernel)",
   "language": "python",
   "name": "python3"
  },
  "language_info": {
   "codemirror_mode": {
    "name": "ipython",
    "version": 3
   },
   "file_extension": ".py",
   "mimetype": "text/x-python",
   "name": "python",
   "nbconvert_exporter": "python",
   "pygments_lexer": "ipython3",
   "version": "3.9.12"
  }
 },
 "nbformat": 4,
 "nbformat_minor": 5
}
