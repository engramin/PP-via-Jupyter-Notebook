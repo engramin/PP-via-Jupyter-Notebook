{
 "cells": [
  {
   "cell_type": "code",
   "execution_count": 10,
   "metadata": {},
   "outputs": [
    {
     "name": "stdout",
     "output_type": "stream",
     "text": [
      "Updated Set after Addiing Elements: {'Green', 'Black', 'Red', 'Blue', 'Yellow', 'Orange'}\n"
     ]
    }
   ],
   "source": [
    "#Q1-Given a Python list, Write a program to add all its elements into a given set.\n",
    "sample_set = {\"Yellow\", \"Orange\", \"Black\"}\n",
    "sample_list = [\"Blue\", \"Green\", \"Red\"]\n",
    "\n",
    "sample_set.update(sample_list)\n",
    "print('Updated Set after Addiing Elements:',sample_set)"
   ]
  },
  {
   "cell_type": "code",
   "execution_count": 14,
   "metadata": {},
   "outputs": [
    {
     "name": "stdout",
     "output_type": "stream",
     "text": [
      "Intersection: {40, 50, 30}\n",
      "{40, 50, 30}\n",
      "Union: {70, 40, 10, 50, 20, 60, 30}\n",
      "{70, 40, 10, 50, 20, 60, 30}\n"
     ]
    }
   ],
   "source": [
    "#Q2-perform intersection and union\n",
    "set1 = {10, 20, 30, 40, 50}\n",
    "set2 = {30, 40, 50, 60, 70}\n",
    "\n",
    "#Intersection\n",
    "print(\"Intersection:\",set1&set2) #Method 1\n",
    "print(set1.intersection(set2))  #Method 2\n",
    "\n",
    "#Union\n",
    "print(\"Union:\",set1|set2)   #Method 1\n",
    "print(set1.union(set2))     #Method 2\n"
   ]
  },
  {
   "cell_type": "code",
   "execution_count": 15,
   "metadata": {},
   "outputs": [
    {
     "name": "stdout",
     "output_type": "stream",
     "text": [
      "{50, 40}\n"
     ]
    }
   ],
   "source": [
    "#Q3-Write a Python program to remove items 10, 20, 30 from the following set at once.\n",
    "set1 = {10, 20, 30, 40, 50}\n",
    "\n",
    "set1 = {10, 20, 30, 40, 50}\n",
    "set1.difference_update({10, 20, 30})\n",
    "print(set1)"
   ]
  },
  {
   "cell_type": "code",
   "execution_count": 16,
   "metadata": {},
   "outputs": [
    {
     "name": "stdout",
     "output_type": "stream",
     "text": [
      "{20, 70, 10, 60}\n"
     ]
    }
   ],
   "source": [
    "#Q4-Return a set of elements present in Set A or B, but not both\n",
    "set1 = {10, 20, 30, 40, 50}\n",
    "set2 = {30, 40, 50, 60, 70}\n",
    "\n",
    "print(set1.symmetric_difference(set2))"
   ]
  },
  {
   "cell_type": "code",
   "execution_count": null,
   "metadata": {},
   "outputs": [],
   "source": []
  }
 ],
 "metadata": {
  "kernelspec": {
   "display_name": "Python 3.9.12 ('base')",
   "language": "python",
   "name": "python3"
  },
  "language_info": {
   "codemirror_mode": {
    "name": "ipython",
    "version": 3
   },
   "file_extension": ".py",
   "mimetype": "text/x-python",
   "name": "python",
   "nbconvert_exporter": "python",
   "pygments_lexer": "ipython3",
   "version": "3.9.12"
  },
  "orig_nbformat": 4,
  "vscode": {
   "interpreter": {
    "hash": "9ff939c891caec94328121f1f33a8abe674d7ec2b151c1688444427870c50cf4"
   }
  }
 },
 "nbformat": 4,
 "nbformat_minor": 2
}
