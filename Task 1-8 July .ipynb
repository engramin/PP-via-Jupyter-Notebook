{
 "cells": [
  {
   "cell_type": "code",
   "execution_count": 1,
   "id": "4a5262c0",
   "metadata": {},
   "outputs": [],
   "source": [
    "#Any fool can write code that a computer can understand.Good programmers write code that humans can understand"
   ]
  },
  {
   "cell_type": "code",
   "execution_count": 4,
   "id": "a1b9c16d",
   "metadata": {},
   "outputs": [],
   "source": [
    "#find how many characters are there in this string\n",
    "text=\"Any fool can write code that a computer can understand.Good programmers write code that humans can understand\"\n",
    "\n"
   ]
  },
  {
   "cell_type": "code",
   "execution_count": 5,
   "id": "38f8cf44",
   "metadata": {},
   "outputs": [
    {
     "data": {
      "text/plain": [
       "109"
      ]
     },
     "execution_count": 5,
     "metadata": {},
     "output_type": "execute_result"
    }
   ],
   "source": [
    "len(text)"
   ]
  },
  {
   "cell_type": "code",
   "execution_count": 6,
   "id": "f0cf85bc",
   "metadata": {},
   "outputs": [
    {
     "data": {
      "text/plain": [
       "'programmers'"
      ]
     },
     "execution_count": 6,
     "metadata": {},
     "output_type": "execute_result"
    }
   ],
   "source": [
    "#print only programmers from these string using indexes\n",
    "text[60:71]"
   ]
  },
  {
   "cell_type": "code",
   "execution_count": 8,
   "id": "46a5c742",
   "metadata": {},
   "outputs": [
    {
     "data": {
      "text/plain": [
       "'ANY FOOL CAN WRITE CODE THAT A COMPUTER CAN UNDERSTAND.GOOD PROGRAMMERS WRITE CODE THAT HUMANS CAN UNDERSTAND'"
      ]
     },
     "execution_count": 8,
     "metadata": {},
     "output_type": "execute_result"
    }
   ],
   "source": [
    "#convert it to uppercase letters\n",
    "text.upper()"
   ]
  },
  {
   "cell_type": "code",
   "execution_count": 9,
   "id": "56ab3533",
   "metadata": {},
   "outputs": [
    {
     "data": {
      "text/plain": [
       "'any fool can write code that a computer can understand.good programmers write code that humans can understand'"
      ]
     },
     "execution_count": 9,
     "metadata": {},
     "output_type": "execute_result"
    }
   ],
   "source": [
    "#convert it to lower case\n",
    "text.lower()"
   ]
  },
  {
   "cell_type": "code",
   "execution_count": 11,
   "id": "b3eca4ca",
   "metadata": {},
   "outputs": [
    {
     "data": {
      "text/plain": [
       "'Any fool can write code that a computer can read.Good programmers write code that humans can read'"
      ]
     },
     "execution_count": 11,
     "metadata": {},
     "output_type": "execute_result"
    }
   ],
   "source": [
    "#replace \"understand\" with \"read\"\n",
    "text.replace(\"understand\",\"read\")"
   ]
  },
  {
   "cell_type": "code",
   "execution_count": 18,
   "id": "b0f1dc1e",
   "metadata": {},
   "outputs": [
    {
     "data": {
      "text/plain": [
       "(10, 8, 2, 8, 4)"
      ]
     },
     "execution_count": 18,
     "metadata": {},
     "output_type": "execute_result"
    }
   ],
   "source": [
    "#count how many \"a\", \"e\", \"i\", \"o\", \"u\" are in the string\n",
    "text.count(\"a\"),text.count(\"e\"),text.count (\"i\"),text.count(\"o\"),text.count(\"u\")"
   ]
  },
  {
   "cell_type": "code",
   "execution_count": 20,
   "id": "e8e40ad1",
   "metadata": {},
   "outputs": [
    {
     "data": {
      "text/plain": [
       "34"
      ]
     },
     "execution_count": 20,
     "metadata": {},
     "output_type": "execute_result"
    }
   ],
   "source": [
    "#find the index of \"p\" in the string\n",
    "text.find(\"p\")"
   ]
  },
  {
   "cell_type": "code",
   "execution_count": null,
   "id": "c2a1cf48",
   "metadata": {},
   "outputs": [],
   "source": []
  }
 ],
 "metadata": {
  "kernelspec": {
   "display_name": "Python 3 (ipykernel)",
   "language": "python",
   "name": "python3"
  },
  "language_info": {
   "codemirror_mode": {
    "name": "ipython",
    "version": 3
   },
   "file_extension": ".py",
   "mimetype": "text/x-python",
   "name": "python",
   "nbconvert_exporter": "python",
   "pygments_lexer": "ipython3",
   "version": "3.9.12"
  }
 },
 "nbformat": 4,
 "nbformat_minor": 5
}
